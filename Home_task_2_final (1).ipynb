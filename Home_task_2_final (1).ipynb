{
  "cells": [
    {
      "cell_type": "code",
      "execution_count": 2,
      "metadata": {
        "id": "iaq0chcB4jXf"
      },
      "outputs": [],
      "source": [
        "import numpy as np\n",
        "import seaborn as sns\n",
        "from matplotlib import pyplot as plt\n",
        "import pandas as pd\n",
        "import json\n",
        "from scipy import stats"
      ]
    },
    {
      "cell_type": "markdown",
      "metadata": {
        "id": "diEv7_xr4jXi"
      },
      "source": [
        "### Домашнее задание 2. Интерпретация результатов АБ-теста\n",
        "\n",
        "Срок сдачи: 31 марта 18:00"
      ]
    },
    {
      "cell_type": "markdown",
      "metadata": {
        "id": "OtowlqPZ4jXk"
      },
      "source": [
        "На мобильной версии Авито провели тест на добавление рекламного баннера на карточку товара между описанием и блоком рекомендаций.\n",
        "\n",
        "Продуктовая гипотеза:\n",
        "Добавление рекламного баннера будет приводить к увелечинию выручки без ущерба пользовательскому опыт."
      ]
    },
    {
      "cell_type": "markdown",
      "metadata": {
        "id": "Sm5Bo5xf4jXl"
      },
      "source": [
        "<div>\n",
        "<img src=\"attachment:screen_phone.png\" width=\"300\"/>\n",
        "</div>"
      ]
    },
    {
      "cell_type": "markdown",
      "metadata": {
        "id": "MJ_KzVKa4jXm"
      },
      "source": [
        "Задание:\n",
        "1. Загрузите файл с данными, собранными за время аб теста.\n",
        "\n",
        "2. На основе имеющихя в файле метрик формализуйте продуктовую гипотезу. Помимо количественных метрик рекомендую использовать ratio-метрики и метрики аггрегированные по пользователям(например, количество пользователей совершивших контакт) и при анализе теста обратите внимание на их чувтсвительность. (2 балла)\n",
        "\n",
        "3.  Используя критерий Стьюдента, проинтерпретируйте как изменились средние выборок для выбранных вами метрик. Используйте уровень значимости 0.01.(2 балла)\n",
        "\n",
        "4.  Выборка разделена на 200 бакетов. Примените к бакетам критерий Стьюдента и проинтерпретируйте как изменились средние выборок для выбранных вами метрик. Используйте уровень значимости 0.01. Сравните результаты с предыдущим пунктом. (2 балла)\n",
        "\n",
        "6. Для анализа сформулированных в п.2 ratio-метрик воспольуйтесь Бутстрэпом. Являются ли эти метрики более чувствительными, чем базовые метрики? (2 балла)\n",
        "\n",
        "7. Проинтерпретируйте результаты и сделайте выводы об изменениях для продукта. Рекомендуете ли вы изменение к запуску на 100% пользователей? (2 балла)"
      ]
    },
    {
      "cell_type": "markdown",
      "metadata": {
        "id": "7vIQxswu4jXo"
      },
      "source": [
        "Формат данных\n",
        "\n",
        "cookie_id - ид пользователя\n",
        "\n",
        "split_group\t- тестовая группа\n",
        "\n",
        "searches - количество поисков\n",
        "\n",
        "item_views - количество просмотров объявлений\n",
        "\n",
        "contacts - количество контактов пользователя с продавцом\t\n",
        "\n",
        "rec_item_views - количество просмотров объявлений с рекомендацией\n",
        "\n",
        "rec_contacts - контакты с рекомендацией\n",
        "\n",
        "contact_cookie - пользователь, совершил контакт\n",
        "\n",
        "advertising_clicks - клики на всю рекламу(Помимо добавленного баннера есть ещё баннеры в других местах. Эта метрика их учитывает.)\n",
        "\n",
        "bucket - бакет"
      ]
    },
    {
      "cell_type": "code",
      "execution_count": 3,
      "metadata": {
        "colab": {
          "base_uri": "https://localhost:8080/",
          "height": 424
        },
        "id": "SMvtDQTA4jXp",
        "outputId": "32b6db6e-13c1-492d-9862-7386b7ed5af1"
      },
      "outputs": [
        {
          "output_type": "execute_result",
          "data": {
            "text/plain": [
              "             cookie_id split_group  searches  item_views  contacts  \\\n",
              "0           5898517031        test         0          21         7   \n",
              "1          28204005253        test         0          16         0   \n",
              "2          37285261090        test         0           4         0   \n",
              "3          48663044440        test         0           3         0   \n",
              "4          48835061540        test         0           2         0   \n",
              "...                ...         ...       ...         ...       ...   \n",
              "1010800  3967387067306        test         0          44         0   \n",
              "1010801  3967407032924     control         0           5         0   \n",
              "1010802  3967507007864     control        40         166         7   \n",
              "1010803  3967529533807     control         2          10         0   \n",
              "1010804  3967537014001     control        10          43         8   \n",
              "\n",
              "         rec_item_views  rec_contacts  contact_cookie  advertising_clicks  \\\n",
              "0                     0             0               1                   0   \n",
              "1                     1             0               0                   0   \n",
              "2                     0             0               0                   0   \n",
              "3                     0             0               0                   0   \n",
              "4                     0             0               0                   0   \n",
              "...                 ...           ...             ...                 ...   \n",
              "1010800               0             0               0                   1   \n",
              "1010801               1             0               0                   1   \n",
              "1010802              30             1               1                   1   \n",
              "1010803               1             0               0                   1   \n",
              "1010804               0             0               1                   3   \n",
              "\n",
              "         bucket  \n",
              "0            31  \n",
              "1            53  \n",
              "2            90  \n",
              "3            40  \n",
              "4           140  \n",
              "...         ...  \n",
              "1010800     106  \n",
              "1010801     124  \n",
              "1010802      64  \n",
              "1010803       7  \n",
              "1010804       1  \n",
              "\n",
              "[1010805 rows x 10 columns]"
            ],
            "text/html": [
              "\n",
              "  <div id=\"df-551bb2a9-7262-4ae9-9ff3-ed0b3fa10dfa\">\n",
              "    <div class=\"colab-df-container\">\n",
              "      <div>\n",
              "<style scoped>\n",
              "    .dataframe tbody tr th:only-of-type {\n",
              "        vertical-align: middle;\n",
              "    }\n",
              "\n",
              "    .dataframe tbody tr th {\n",
              "        vertical-align: top;\n",
              "    }\n",
              "\n",
              "    .dataframe thead th {\n",
              "        text-align: right;\n",
              "    }\n",
              "</style>\n",
              "<table border=\"1\" class=\"dataframe\">\n",
              "  <thead>\n",
              "    <tr style=\"text-align: right;\">\n",
              "      <th></th>\n",
              "      <th>cookie_id</th>\n",
              "      <th>split_group</th>\n",
              "      <th>searches</th>\n",
              "      <th>item_views</th>\n",
              "      <th>contacts</th>\n",
              "      <th>rec_item_views</th>\n",
              "      <th>rec_contacts</th>\n",
              "      <th>contact_cookie</th>\n",
              "      <th>advertising_clicks</th>\n",
              "      <th>bucket</th>\n",
              "    </tr>\n",
              "  </thead>\n",
              "  <tbody>\n",
              "    <tr>\n",
              "      <th>0</th>\n",
              "      <td>5898517031</td>\n",
              "      <td>test</td>\n",
              "      <td>0</td>\n",
              "      <td>21</td>\n",
              "      <td>7</td>\n",
              "      <td>0</td>\n",
              "      <td>0</td>\n",
              "      <td>1</td>\n",
              "      <td>0</td>\n",
              "      <td>31</td>\n",
              "    </tr>\n",
              "    <tr>\n",
              "      <th>1</th>\n",
              "      <td>28204005253</td>\n",
              "      <td>test</td>\n",
              "      <td>0</td>\n",
              "      <td>16</td>\n",
              "      <td>0</td>\n",
              "      <td>1</td>\n",
              "      <td>0</td>\n",
              "      <td>0</td>\n",
              "      <td>0</td>\n",
              "      <td>53</td>\n",
              "    </tr>\n",
              "    <tr>\n",
              "      <th>2</th>\n",
              "      <td>37285261090</td>\n",
              "      <td>test</td>\n",
              "      <td>0</td>\n",
              "      <td>4</td>\n",
              "      <td>0</td>\n",
              "      <td>0</td>\n",
              "      <td>0</td>\n",
              "      <td>0</td>\n",
              "      <td>0</td>\n",
              "      <td>90</td>\n",
              "    </tr>\n",
              "    <tr>\n",
              "      <th>3</th>\n",
              "      <td>48663044440</td>\n",
              "      <td>test</td>\n",
              "      <td>0</td>\n",
              "      <td>3</td>\n",
              "      <td>0</td>\n",
              "      <td>0</td>\n",
              "      <td>0</td>\n",
              "      <td>0</td>\n",
              "      <td>0</td>\n",
              "      <td>40</td>\n",
              "    </tr>\n",
              "    <tr>\n",
              "      <th>4</th>\n",
              "      <td>48835061540</td>\n",
              "      <td>test</td>\n",
              "      <td>0</td>\n",
              "      <td>2</td>\n",
              "      <td>0</td>\n",
              "      <td>0</td>\n",
              "      <td>0</td>\n",
              "      <td>0</td>\n",
              "      <td>0</td>\n",
              "      <td>140</td>\n",
              "    </tr>\n",
              "    <tr>\n",
              "      <th>...</th>\n",
              "      <td>...</td>\n",
              "      <td>...</td>\n",
              "      <td>...</td>\n",
              "      <td>...</td>\n",
              "      <td>...</td>\n",
              "      <td>...</td>\n",
              "      <td>...</td>\n",
              "      <td>...</td>\n",
              "      <td>...</td>\n",
              "      <td>...</td>\n",
              "    </tr>\n",
              "    <tr>\n",
              "      <th>1010800</th>\n",
              "      <td>3967387067306</td>\n",
              "      <td>test</td>\n",
              "      <td>0</td>\n",
              "      <td>44</td>\n",
              "      <td>0</td>\n",
              "      <td>0</td>\n",
              "      <td>0</td>\n",
              "      <td>0</td>\n",
              "      <td>1</td>\n",
              "      <td>106</td>\n",
              "    </tr>\n",
              "    <tr>\n",
              "      <th>1010801</th>\n",
              "      <td>3967407032924</td>\n",
              "      <td>control</td>\n",
              "      <td>0</td>\n",
              "      <td>5</td>\n",
              "      <td>0</td>\n",
              "      <td>1</td>\n",
              "      <td>0</td>\n",
              "      <td>0</td>\n",
              "      <td>1</td>\n",
              "      <td>124</td>\n",
              "    </tr>\n",
              "    <tr>\n",
              "      <th>1010802</th>\n",
              "      <td>3967507007864</td>\n",
              "      <td>control</td>\n",
              "      <td>40</td>\n",
              "      <td>166</td>\n",
              "      <td>7</td>\n",
              "      <td>30</td>\n",
              "      <td>1</td>\n",
              "      <td>1</td>\n",
              "      <td>1</td>\n",
              "      <td>64</td>\n",
              "    </tr>\n",
              "    <tr>\n",
              "      <th>1010803</th>\n",
              "      <td>3967529533807</td>\n",
              "      <td>control</td>\n",
              "      <td>2</td>\n",
              "      <td>10</td>\n",
              "      <td>0</td>\n",
              "      <td>1</td>\n",
              "      <td>0</td>\n",
              "      <td>0</td>\n",
              "      <td>1</td>\n",
              "      <td>7</td>\n",
              "    </tr>\n",
              "    <tr>\n",
              "      <th>1010804</th>\n",
              "      <td>3967537014001</td>\n",
              "      <td>control</td>\n",
              "      <td>10</td>\n",
              "      <td>43</td>\n",
              "      <td>8</td>\n",
              "      <td>0</td>\n",
              "      <td>0</td>\n",
              "      <td>1</td>\n",
              "      <td>3</td>\n",
              "      <td>1</td>\n",
              "    </tr>\n",
              "  </tbody>\n",
              "</table>\n",
              "<p>1010805 rows × 10 columns</p>\n",
              "</div>\n",
              "      <button class=\"colab-df-convert\" onclick=\"convertToInteractive('df-551bb2a9-7262-4ae9-9ff3-ed0b3fa10dfa')\"\n",
              "              title=\"Convert this dataframe to an interactive table.\"\n",
              "              style=\"display:none;\">\n",
              "        \n",
              "  <svg xmlns=\"http://www.w3.org/2000/svg\" height=\"24px\"viewBox=\"0 0 24 24\"\n",
              "       width=\"24px\">\n",
              "    <path d=\"M0 0h24v24H0V0z\" fill=\"none\"/>\n",
              "    <path d=\"M18.56 5.44l.94 2.06.94-2.06 2.06-.94-2.06-.94-.94-2.06-.94 2.06-2.06.94zm-11 1L8.5 8.5l.94-2.06 2.06-.94-2.06-.94L8.5 2.5l-.94 2.06-2.06.94zm10 10l.94 2.06.94-2.06 2.06-.94-2.06-.94-.94-2.06-.94 2.06-2.06.94z\"/><path d=\"M17.41 7.96l-1.37-1.37c-.4-.4-.92-.59-1.43-.59-.52 0-1.04.2-1.43.59L10.3 9.45l-7.72 7.72c-.78.78-.78 2.05 0 2.83L4 21.41c.39.39.9.59 1.41.59.51 0 1.02-.2 1.41-.59l7.78-7.78 2.81-2.81c.8-.78.8-2.07 0-2.86zM5.41 20L4 18.59l7.72-7.72 1.47 1.35L5.41 20z\"/>\n",
              "  </svg>\n",
              "      </button>\n",
              "      \n",
              "  <style>\n",
              "    .colab-df-container {\n",
              "      display:flex;\n",
              "      flex-wrap:wrap;\n",
              "      gap: 12px;\n",
              "    }\n",
              "\n",
              "    .colab-df-convert {\n",
              "      background-color: #E8F0FE;\n",
              "      border: none;\n",
              "      border-radius: 50%;\n",
              "      cursor: pointer;\n",
              "      display: none;\n",
              "      fill: #1967D2;\n",
              "      height: 32px;\n",
              "      padding: 0 0 0 0;\n",
              "      width: 32px;\n",
              "    }\n",
              "\n",
              "    .colab-df-convert:hover {\n",
              "      background-color: #E2EBFA;\n",
              "      box-shadow: 0px 1px 2px rgba(60, 64, 67, 0.3), 0px 1px 3px 1px rgba(60, 64, 67, 0.15);\n",
              "      fill: #174EA6;\n",
              "    }\n",
              "\n",
              "    [theme=dark] .colab-df-convert {\n",
              "      background-color: #3B4455;\n",
              "      fill: #D2E3FC;\n",
              "    }\n",
              "\n",
              "    [theme=dark] .colab-df-convert:hover {\n",
              "      background-color: #434B5C;\n",
              "      box-shadow: 0px 1px 3px 1px rgba(0, 0, 0, 0.15);\n",
              "      filter: drop-shadow(0px 1px 2px rgba(0, 0, 0, 0.3));\n",
              "      fill: #FFFFFF;\n",
              "    }\n",
              "  </style>\n",
              "\n",
              "      <script>\n",
              "        const buttonEl =\n",
              "          document.querySelector('#df-551bb2a9-7262-4ae9-9ff3-ed0b3fa10dfa button.colab-df-convert');\n",
              "        buttonEl.style.display =\n",
              "          google.colab.kernel.accessAllowed ? 'block' : 'none';\n",
              "\n",
              "        async function convertToInteractive(key) {\n",
              "          const element = document.querySelector('#df-551bb2a9-7262-4ae9-9ff3-ed0b3fa10dfa');\n",
              "          const dataTable =\n",
              "            await google.colab.kernel.invokeFunction('convertToInteractive',\n",
              "                                                     [key], {});\n",
              "          if (!dataTable) return;\n",
              "\n",
              "          const docLinkHtml = 'Like what you see? Visit the ' +\n",
              "            '<a target=\"_blank\" href=https://colab.research.google.com/notebooks/data_table.ipynb>data table notebook</a>'\n",
              "            + ' to learn more about interactive tables.';\n",
              "          element.innerHTML = '';\n",
              "          dataTable['output_type'] = 'display_data';\n",
              "          await google.colab.output.renderOutput(dataTable, element);\n",
              "          const docLink = document.createElement('div');\n",
              "          docLink.innerHTML = docLinkHtml;\n",
              "          element.appendChild(docLink);\n",
              "        }\n",
              "      </script>\n",
              "    </div>\n",
              "  </div>\n",
              "  "
            ]
          },
          "metadata": {},
          "execution_count": 3
        }
      ],
      "source": [
        "df = pd.read_csv('banner_test_results.csv')\n",
        "df"
      ]
    },
    {
      "cell_type": "markdown",
      "source": [
        "2. На основе имеющихя в файле метрик формализуйте продуктовую гипотезу. Помимо количественных метрик рекомендую использовать ratio-метрики и метрики аггрегированные по пользователям(например, количество пользователей совершивших контакт) и при анализе теста обратите внимание на их чувтсвительность. (2 балла)"
      ],
      "metadata": {
        "id": "w-sx6fCJFYts"
      }
    },
    {
      "cell_type": "markdown",
      "source": [
        "Добавление баннера должно повысить количество кликов на рекламу, что приведет к увеличению выручки. Я предлагаю использовать общее количество кликов на рекламу и ratio-метрику количество кликов на рекламу / количество просмотров страницы - какая доля из просмотров айтемов была сконвертирована в рекламный клик.\n",
        "\n",
        "Это ключевые метрики, касающиеся первой части продуктовой гипотезы, про выручку. Для того, чтобы проследить, что пользовательский опыт не стал хуже, я бы обращала внимание на такие агрегированные метрики как количество пользователей, совершивших конртакт с продавцами; среднее количество просмотров (предполагается, что если нам удалось не ухудшить пользовательский опыт, то юзеры в среднем не станут реже просматривать объявления и контактировать с продавцами)"
      ],
      "metadata": {
        "id": "UykOx1hxHWij"
      }
    },
    {
      "cell_type": "markdown",
      "source": [
        "\n",
        "3.  Используя критерий Стьюдента, проинтерпретируйте как изменились средние выборок для выбранных вами метрик. Используйте уровень значимости 0.01.(2 балла)\n"
      ],
      "metadata": {
        "id": "3RyDskK3KhYl"
      }
    },
    {
      "cell_type": "markdown",
      "source": [
        "Буду смотреть на изменение метрик:\n",
        "- среднее количество кликов на рекламу\n",
        "- количество юзеров, совершивших контакт с продавцами\n",
        "- среднее количество просмотров объявлений"
      ],
      "metadata": {
        "id": "pWABsiMvPMW9"
      }
    },
    {
      "cell_type": "markdown",
      "source": [
        "Гипотеза для среднего количества кликов на рекламу:\n",
        "(1 - тест, 2 - контроль)\n",
        "\n",
        "$H0: \\mu_1 = \\mu_2$ (среднее значение метрики на тесте и контроле равно)\n",
        "\n",
        "$H1: \\mu_1 \\ge \\mu_2$ (среднее значение метрики на тесте не меньше, чем на контроле)\n",
        "\n",
        "\n",
        "\n",
        "\n",
        "Гипотеза для количества контактов с продавцами и среднего количества просмотров объявлений:\n",
        "(1 - тест, 2 - контроль)\n",
        "\n",
        "$H0: \\mu_1 = \\mu_2$ (среднее значение метрики на тесте и контроле равно)\n",
        "\n",
        "$H1: \\mu_1 \\le \\mu_2$ (среднее значение метрики на тесте не равно значению на контроле)\n",
        "\n",
        "Здесь интерпретировать результаты следует так: если мы не отвергаем Н0, то пользовательский опыт в среднем не стал хуже. Если же мы принимаем альтернативную гипотезу, это значит, что при добавлении баннера данные пользовательские метрики в среднем просядут - то есть опыт пользователя ухудшится\n",
        "\n",
        "\n"
      ],
      "metadata": {
        "id": "-_YsgmixP316"
      }
    },
    {
      "cell_type": "code",
      "source": [
        "clicks_test = df.loc[df.split_group == \"test\", 'advertising_clicks']\n",
        "clicks_control = df.loc[df.split_group == \"control\", 'advertising_clicks']\n",
        "print(np.var(clicks_control), np.var(clicks_test))"
      ],
      "metadata": {
        "colab": {
          "base_uri": "https://localhost:8080/"
        },
        "id": "vWSIrB_ePuks",
        "outputId": "0183e9c4-09f5-498b-815d-ebf2d37f3f94"
      },
      "execution_count": 19,
      "outputs": [
        {
          "output_type": "stream",
          "name": "stdout",
          "text": [
            "30.473171410830084 33.359079651980515\n"
          ]
        }
      ]
    },
    {
      "cell_type": "code",
      "source": [
        "stats.ttest_ind(a=clicks_test, b=clicks_control, equal_var=True, alternative='greater')"
      ],
      "metadata": {
        "colab": {
          "base_uri": "https://localhost:8080/"
        },
        "id": "Vbfoj-yDUhYc",
        "outputId": "a1e77aa5-26e7-4de3-8612-c5521e18541d"
      },
      "execution_count": 20,
      "outputs": [
        {
          "output_type": "execute_result",
          "data": {
            "text/plain": [
              "Ttest_indResult(statistic=2.7769176008074683, pvalue=0.002743904963274941)"
            ]
          },
          "metadata": {},
          "execution_count": 20
        }
      ]
    },
    {
      "cell_type": "markdown",
      "source": [
        "В данном случая, я считаю, что можно использовать вариант t-теста для выборок с равными дисперсиями. \n",
        "\n",
        "p-valuе < alpha, поэтому можно отвергнуть H0, и принять альтернативу: среднее количество кликов на рекламу, после добавления нового баннера не меньше, чем на контрольной группе\n",
        "\n"
      ],
      "metadata": {
        "id": "_fs65ti3WSpd"
      }
    },
    {
      "cell_type": "code",
      "source": [
        "users_test = df.loc[df.split_group == \"test\", 'contacts']\n",
        "users_control = df.loc[df.split_group == \"control\", 'contacts']\n",
        "print(np.var(users_control), np.var(users_test))"
      ],
      "metadata": {
        "colab": {
          "base_uri": "https://localhost:8080/"
        },
        "id": "U-Dc2n42VHZx",
        "outputId": "da13bbfa-afa8-4d44-bc45-fe14de5b3658"
      },
      "execution_count": 40,
      "outputs": [
        {
          "output_type": "stream",
          "name": "stdout",
          "text": [
            "91363.44974465488 141909.49673436253\n"
          ]
        }
      ]
    },
    {
      "cell_type": "code",
      "source": [
        "stats.ttest_ind(a=users_test, b=users_control, equal_var=False, alternative='less')"
      ],
      "metadata": {
        "colab": {
          "base_uri": "https://localhost:8080/"
        },
        "id": "ljzJ4iQXVHdC",
        "outputId": "55089fe0-a674-4274-d048-3b23161378d2"
      },
      "execution_count": 41,
      "outputs": [
        {
          "output_type": "execute_result",
          "data": {
            "text/plain": [
              "Ttest_indResult(statistic=2.0728019166949747, pvalue=0.980904509084013)"
            ]
          },
          "metadata": {},
          "execution_count": 41
        }
      ]
    },
    {
      "cell_type": "markdown",
      "source": [
        "p-value=0.98 > alpha=0.01, поэтому мы не отвергаем H0 и значит не можем утверждать, что среднее значение количества контактов после добавления баннера станет меньше, по сравнению с количеством контактов в контрольной группе "
      ],
      "metadata": {
        "id": "yfJex-gCWTpQ"
      }
    },
    {
      "cell_type": "code",
      "source": [
        "views_test = df.loc[df.split_group == \"test\", 'item_views']\n",
        "views_control = df.loc[df.split_group == \"control\", 'item_views']\n",
        "print(np.var(views_control), np.var(views_test))"
      ],
      "metadata": {
        "colab": {
          "base_uri": "https://localhost:8080/"
        },
        "id": "i6l46kCxVHuC",
        "outputId": "0ef692a4-241e-48fe-fb14-eae7b457f469"
      },
      "execution_count": 42,
      "outputs": [
        {
          "output_type": "stream",
          "name": "stdout",
          "text": [
            "16662837.865840832 17619244.991101533\n"
          ]
        }
      ]
    },
    {
      "cell_type": "code",
      "source": [
        "stats.ttest_ind(a=views_test, b=views_control, equal_var=False, alternative='less')"
      ],
      "metadata": {
        "colab": {
          "base_uri": "https://localhost:8080/"
        },
        "id": "o2ctlcwbWFxV",
        "outputId": "19849b47-8b68-41f0-8c7a-43c5ceee7bc0"
      },
      "execution_count": 43,
      "outputs": [
        {
          "output_type": "execute_result",
          "data": {
            "text/plain": [
              "Ttest_indResult(statistic=0.5248938387491806, pvalue=0.7001714460471651)"
            ]
          },
          "metadata": {},
          "execution_count": 43
        }
      ]
    },
    {
      "cell_type": "markdown",
      "source": [
        "p-value=0.7 > alpha=0.01, поэтому мы не отвергаем H0 и значит не можем утверждать, что среднее значение количества просмотров айтемов после добавления баннера станет меньше, по сравнению с количеством просмотров в контрольной группе "
      ],
      "metadata": {
        "id": "MQZUTXvxhF_N"
      }
    },
    {
      "cell_type": "markdown",
      "source": [
        "В целом по текущим метрикам получается, что на уровне значимости 1%, добавление баннера действительно увеличит количество кликов на рекламу, но при этом ухудшения пользовательского опыта не произойдет. Наиболее чувствительной оказалась метрика \"число кликов на баннер\", что наверное хорошо, если мы занимаемся максимизацией их числа."
      ],
      "metadata": {
        "id": "ur0B5N8-hQbv"
      }
    },
    {
      "cell_type": "markdown",
      "source": [
        "4.  Выборка разделена на 200 бакетов. Примените к бакетам критерий Стьюдента и проинтерпретируйте как изменились средние выборок для выбранных вами метрик. Используйте уровень значимости 0.01. Сравните результаты с предыдущим пунктом. (2 балла)"
      ],
      "metadata": {
        "id": "bdP2ugGVOwkB"
      }
    },
    {
      "cell_type": "code",
      "source": [
        "x = \"advertising_clicks\"\n",
        "print(\"Бакеты, в которых мы можем отвергнуть Н0 и пронаблюдать увеличение средних кликов на рекламу:\")\n",
        "for i in range (0, 200):\n",
        "  test_sample = df.loc[(df.split_group == \"test\") & (df.bucket == i), x]\n",
        "  control_sample = df.loc[(df.split_group == \"control\") & (df.bucket == i), x]\n",
        "  _, pvalue = stats.ttest_ind(a=test_sample, b=control_sample, equal_var=False, alternative='greater')\n",
        "  if pvalue < 0.01:\n",
        "    print(\"Номер бакета\", i, \" при p-value=\",pvalue.round(5))"
      ],
      "metadata": {
        "colab": {
          "base_uri": "https://localhost:8080/"
        },
        "id": "d4f1sjjVbR0p",
        "outputId": "bccbfb48-a6f4-4ba8-a3a2-c4134512a161"
      },
      "execution_count": 58,
      "outputs": [
        {
          "output_type": "stream",
          "name": "stdout",
          "text": [
            "Бакеты, в которых мы можем отвергнуть Н0 и пронаблюдать увеличение средних кликов на рекламу:\n",
            "Номер бакета 20  при p-value= 0.00141\n"
          ]
        }
      ]
    },
    {
      "cell_type": "code",
      "source": [
        "x = \"contacts\"\n",
        "print(\"Бакеты, в которых мы можем отвергнуть Н0 и пронаблюдать уменьшение среднего количества контактов с продавцами:\")\n",
        "for i in range (0, 200):\n",
        "  test_sample = df.loc[(df.split_group == \"test\") & (df.bucket == i), x]\n",
        "  control_sample = df.loc[(df.split_group == \"control\") & (df.bucket == i), x]\n",
        "  _, pvalue = stats.ttest_ind(a=test_sample, b=control_sample, equal_var=False, alternative='less')\n",
        "  if pvalue < 0.01:\n",
        "    print(\"Номер бакета\", i, \" при p-value=\",pvalue.round(5))"
      ],
      "metadata": {
        "colab": {
          "base_uri": "https://localhost:8080/"
        },
        "id": "pebQ0_fVlhDr",
        "outputId": "03c3fbbf-12f8-4065-c3b6-6fc8a2049448"
      },
      "execution_count": 59,
      "outputs": [
        {
          "output_type": "stream",
          "name": "stdout",
          "text": [
            "Бакеты, в которых мы можем отвергнуть Н0 и пронаблюдать уменьшение среднего количества контактов с продавцами:\n"
          ]
        }
      ]
    },
    {
      "cell_type": "code",
      "source": [
        "x = \"item_views\"\n",
        "print(\"Бакеты, в которых мы можем отвергнуть Н0 и пронаблюдать уменьшение среднего количества просмотров айтемов:\")\n",
        "for i in range (0, 200):\n",
        "  test_sample = df.loc[(df.split_group == \"test\") & (df.bucket == i), x]\n",
        "  control_sample = df.loc[(df.split_group == \"control\") & (df.bucket == i), x]\n",
        "  _, pvalue = stats.ttest_ind(a=test_sample, b=control_sample, equal_var=False, alternative='less')\n",
        "  if pvalue < 0.01:\n",
        "    print(\"Номер бакета\", i, \" при p-value=\",pvalue.round(5))"
      ],
      "metadata": {
        "colab": {
          "base_uri": "https://localhost:8080/"
        },
        "id": "NIPTS1Dpmo81",
        "outputId": "5663c08b-7fa5-449e-eba5-5782c78bd61c"
      },
      "execution_count": 166,
      "outputs": [
        {
          "output_type": "stream",
          "name": "stdout",
          "text": [
            "Бакеты, в которых мы можем отвергнуть Н0 и пронаблюдать уменьшение среднего количества просмотров айтемов:\n"
          ]
        }
      ]
    },
    {
      "cell_type": "markdown",
      "source": [
        "5. Для анализа сформулированных в п.2 ratio-метрик воспольуйтесь Бутстрэпом. Являются ли эти метрики более чувствительными, чем базовые метрики? (2 балла)"
      ],
      "metadata": {
        "id": "6Bmv64z-Owpc"
      }
    },
    {
      "cell_type": "code",
      "source": [
        "def ratio(W):\n",
        "  A = np.array(W).T.tolist()\n",
        "  return np.mean(sum(A[0])/sum(A[1]))"
      ],
      "metadata": {
        "id": "5o58m9GP9M2g"
      },
      "execution_count": 159,
      "outputs": []
    },
    {
      "cell_type": "code",
      "source": [
        "def stat_intervals(stat, alpha = 0.01):\n",
        "    return np.percentile(stat, [100 * alpha / 2., 100 * (1 - alpha / 2.)])\n",
        "\n",
        "def get_bootstrap_samples(data, \n",
        "                              n_samples, \n",
        "                              custom_func = ratio,):\n",
        "    return np.array([ratio(data[np.random.randint(0, len(data), len(data))]) for item in range(n_samples)])"
      ],
      "metadata": {
        "id": "SU96hI025H_T"
      },
      "execution_count": 160,
      "outputs": []
    },
    {
      "cell_type": "code",
      "source": [
        "test_sample = df.loc[(df.split_group == \"test\"), ['advertising_clicks', 'item_views']].to_numpy()\n",
        "control_sample = df.loc[(df.split_group == \"control\"), ['advertising_clicks', 'item_views']].to_numpy()"
      ],
      "metadata": {
        "id": "3uxzKGhp5n-g"
      },
      "execution_count": 162,
      "outputs": []
    },
    {
      "cell_type": "code",
      "source": [
        "b_test = get_bootstrap_samples(test_sample, 1000, ratio)"
      ],
      "metadata": {
        "id": "9_ip8QwH5oBJ"
      },
      "execution_count": 163,
      "outputs": []
    },
    {
      "cell_type": "code",
      "source": [
        "b_control = get_bootstrap_samples(control_sample, 1000, ratio)"
      ],
      "metadata": {
        "id": "GBZMOZCn5oDt"
      },
      "execution_count": 164,
      "outputs": []
    },
    {
      "cell_type": "code",
      "source": [
        "stat_intervals(b_test-b_control, alpha = 0.01)"
      ],
      "metadata": {
        "colab": {
          "base_uri": "https://localhost:8080/"
        },
        "id": "O_qXcGYhpJRS",
        "outputId": "edc61523-40fb-4ed3-fd02-d361d05348b3"
      },
      "execution_count": 165,
      "outputs": [
        {
          "output_type": "execute_result",
          "data": {
            "text/plain": [
              "array([-1.99310290e-06,  8.02415914e-05])"
            ]
          },
          "metadata": {},
          "execution_count": 165
        }
      ]
    },
    {
      "cell_type": "markdown",
      "source": [
        "Мне кажется, конверсионные метрики в целом должны быть более чувствительными, так как они by design показывают именно % совершения целевого действия и поэтому эффект (проводимое изменение) будет более точно оценен. Традиционные метрки менее конкретные."
      ],
      "metadata": {
        "id": "gKu2NVLWpJGm"
      }
    },
    {
      "cell_type": "markdown",
      "source": [
        "При уровне значимости 1%, статистически значимого результата нет - доверительный интервал включает в себя 0, мы не отвергаем H0 и разница средних не задетектирована и разница в конверсии после теста может быть как больше 0, так и меньше."
      ],
      "metadata": {
        "id": "n4nn53F3Ib5l"
      }
    },
    {
      "cell_type": "markdown",
      "source": [
        "6. Проинтерпретируйте результаты и сделайте выводы об изменениях для продукта. Рекомендуете ли вы изменение к запуску на 100% пользователей? (2 балла)"
      ],
      "metadata": {
        "id": "nSkGLhUSO7nj"
      }
    },
    {
      "cell_type": "markdown",
      "source": [
        "Мне кажется, что запускать продукт не следует. Единственный однозначно-зеленый тест это тест с метрикой \"общее количество кликов на рекламу\", однако при проведении аналогичного теста с разбиением на бакеты, существенный зеленый прокрас был только в 1 из 200 (я не делала повторного разбиения, а скорее всего именно в этот бакет попал сильный положительный выброс).\n",
        "\n",
        "Тест с более чувствительной ratio-метрикой однозначно серый, отрицательные значения в его доверительный интервал входят, поэтому проводить такое изменение для всех точно не следует, хотя продуктовые метрики и не показывают красных результатов."
      ],
      "metadata": {
        "id": "lqzkzC-TIad4"
      }
    }
  ],
  "metadata": {
    "kernelspec": {
      "display_name": "Python 3",
      "language": "python",
      "name": "python3"
    },
    "language_info": {
      "codemirror_mode": {
        "name": "ipython",
        "version": 3
      },
      "file_extension": ".py",
      "mimetype": "text/x-python",
      "name": "python",
      "nbconvert_exporter": "python",
      "pygments_lexer": "ipython3",
      "version": "3.8.3"
    },
    "colab": {
      "provenance": []
    }
  },
  "nbformat": 4,
  "nbformat_minor": 0
}